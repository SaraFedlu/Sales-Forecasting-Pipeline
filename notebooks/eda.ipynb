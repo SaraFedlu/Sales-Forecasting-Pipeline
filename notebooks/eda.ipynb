{
  "cells": [
    {
      "cell_type": "code",
      "execution_count": 7,
      "metadata": {
        "id": "pRIWNNI5S5U6"
      },
      "outputs": [],
      "source": [
        "import pandas as pd\n",
        "import numpy as np\n",
        "import matplotlib.pyplot as plt\n",
        "import seaborn as sns\n",
        "import logging"
      ]
    },
    {
      "cell_type": "code",
      "execution_count": 8,
      "metadata": {
        "id": "PDSis1q7apyJ"
      },
      "outputs": [],
      "source": [
        "# Configure logging\n",
        "logging.basicConfig(\n",
        "    level=logging.INFO,\n",
        "    format='%(asctime)s - %(levelname)s - %(message)s',\n",
        "    handlers=[\n",
        "        logging.FileHandler(\"rossmann_sales_forecasting.log\"),\n",
        "        logging.StreamHandler()\n",
        "    ]\n",
        ")\n",
        "logger = logging.getLogger()"
      ]
    },
    {
      "cell_type": "code",
      "execution_count": 9,
      "metadata": {
        "id": "V27mKWK6aw89"
      },
      "outputs": [],
      "source": [
        "# Set global visualization style\n",
        "sns.set(style=\"whitegrid\", palette=\"muted\")"
      ]
    },
    {
      "cell_type": "code",
      "execution_count": 10,
      "metadata": {
        "colab": {
          "base_uri": "https://localhost:8080/"
        },
        "id": "m574VSUIa3mO",
        "outputId": "bbbec508-7ef1-41d6-ac0b-8f7315b6aa63"
      },
      "outputs": [
        {
          "name": "stderr",
          "output_type": "stream",
          "text": [
            "/tmp/ipykernel_34104/539559645.py:3: DtypeWarning: Columns (7) have mixed types. Specify dtype option on import or set low_memory=False.\n",
            "  train = pd.read_csv(\"../data/train.csv\")\n",
            "2025-01-05 16:32:24,450 - INFO - Datasets successfully loaded.\n"
          ]
        }
      ],
      "source": [
        "# Load datasets\n",
        "try:\n",
        "    train = pd.read_csv(\"../data/train.csv\")\n",
        "    test = pd.read_csv(\"../data/test.csv\")\n",
        "    store = pd.read_csv(\"../data/store.csv\")\n",
        "    logger.info(\"Datasets successfully loaded.\")\n",
        "except Exception as e:\n",
        "    logger.error(f\"Error loading datasets: {e}\")\n",
        "    raise"
      ]
    },
    {
      "cell_type": "code",
      "execution_count": 11,
      "metadata": {
        "id": "9K0-xUpvbuUf"
      },
      "outputs": [
        {
          "name": "stderr",
          "output_type": "stream",
          "text": [
            "2025-01-05 16:32:49,146 - INFO - Train data preview:\n",
            "   Store  DayOfWeek        Date  Sales  Customers  Open  Promo StateHoliday  \\\n",
            "0      1          5  2015-07-31   5263        555     1      1            0   \n",
            "1      2          5  2015-07-31   6064        625     1      1            0   \n",
            "2      3          5  2015-07-31   8314        821     1      1            0   \n",
            "3      4          5  2015-07-31  13995       1498     1      1            0   \n",
            "4      5          5  2015-07-31   4822        559     1      1            0   \n",
            "\n",
            "   SchoolHoliday  \n",
            "0              1  \n",
            "1              1  \n",
            "2              1  \n",
            "3              1  \n",
            "4              1  \n",
            "2025-01-05 16:32:49,150 - INFO - Test data preview:\n",
            "   Id  Store  DayOfWeek        Date  Open  Promo StateHoliday  SchoolHoliday\n",
            "0   1      1          4  2015-09-17   1.0      1            0              0\n",
            "1   2      3          4  2015-09-17   1.0      1            0              0\n",
            "2   3      7          4  2015-09-17   1.0      1            0              0\n",
            "3   4      8          4  2015-09-17   1.0      1            0              0\n",
            "4   5      9          4  2015-09-17   1.0      1            0              0\n",
            "2025-01-05 16:32:49,156 - INFO - Store data preview:\n",
            "   Store StoreType Assortment  CompetitionDistance  CompetitionOpenSinceMonth  \\\n",
            "0      1         c          a               1270.0                        9.0   \n",
            "1      2         a          a                570.0                       11.0   \n",
            "2      3         a          a              14130.0                       12.0   \n",
            "3      4         c          c                620.0                        9.0   \n",
            "4      5         a          a              29910.0                        4.0   \n",
            "\n",
            "   CompetitionOpenSinceYear  Promo2  Promo2SinceWeek  Promo2SinceYear  \\\n",
            "0                    2008.0       0              NaN              NaN   \n",
            "1                    2007.0       1             13.0           2010.0   \n",
            "2                    2006.0       1             14.0           2011.0   \n",
            "3                    2009.0       0              NaN              NaN   \n",
            "4                    2015.0       0              NaN              NaN   \n",
            "\n",
            "     PromoInterval  \n",
            "0              NaN  \n",
            "1  Jan,Apr,Jul,Oct  \n",
            "2  Jan,Apr,Jul,Oct  \n",
            "3              NaN  \n",
            "4              NaN  \n"
          ]
        }
      ],
      "source": [
        "# Initial inspection\n",
        "logger.info(f\"Train data preview:\\n{train.head()}\")\n",
        "logger.info(f\"Test data preview:\\n{test.head()}\")\n",
        "logger.info(f\"Store data preview:\\n{store.head()}\")"
      ]
    },
    {
      "cell_type": "code",
      "execution_count": 12,
      "metadata": {},
      "outputs": [
        {
          "name": "stderr",
          "output_type": "stream",
          "text": [
            "2025-01-05 16:35:52,257 - INFO - Missing values in train dataset:\n",
            "Store            0\n",
            "DayOfWeek        0\n",
            "Date             0\n",
            "Sales            0\n",
            "Customers        0\n",
            "Open             0\n",
            "Promo            0\n",
            "StateHoliday     0\n",
            "SchoolHoliday    0\n",
            "dtype: int64\n",
            "2025-01-05 16:35:52,261 - INFO - Missing values in test dataset:\n",
            "Id                0\n",
            "Store             0\n",
            "DayOfWeek         0\n",
            "Date              0\n",
            "Open             11\n",
            "Promo             0\n",
            "StateHoliday      0\n",
            "SchoolHoliday     0\n",
            "dtype: int64\n",
            "2025-01-05 16:35:52,262 - INFO - Missing values in store dataset:\n",
            "Store                          0\n",
            "StoreType                      0\n",
            "Assortment                     0\n",
            "CompetitionDistance            3\n",
            "CompetitionOpenSinceMonth    354\n",
            "CompetitionOpenSinceYear     354\n",
            "Promo2                         0\n",
            "Promo2SinceWeek              544\n",
            "Promo2SinceYear              544\n",
            "PromoInterval                544\n",
            "dtype: int64\n"
          ]
        }
      ],
      "source": [
        "# Check for missing values\n",
        "logger.info(f\"Missing values in train dataset:\\n{train.isnull().sum()}\")\n",
        "logger.info(f\"Missing values in test dataset:\\n{test.isnull().sum()}\")\n",
        "logger.info(f\"Missing values in store dataset:\\n{store.isnull().sum()}\")"
      ]
    },
    {
      "cell_type": "code",
      "execution_count": 13,
      "metadata": {},
      "outputs": [
        {
          "name": "stderr",
          "output_type": "stream",
          "text": [
            "2025-01-05 16:36:36,944 - INFO - Data types in train dataset:\n",
            "Store             int64\n",
            "DayOfWeek         int64\n",
            "Date             object\n",
            "Sales             int64\n",
            "Customers         int64\n",
            "Open              int64\n",
            "Promo             int64\n",
            "StateHoliday     object\n",
            "SchoolHoliday     int64\n",
            "dtype: object\n",
            "2025-01-05 16:36:36,946 - INFO - Data types in test dataset:\n",
            "Id                 int64\n",
            "Store              int64\n",
            "DayOfWeek          int64\n",
            "Date              object\n",
            "Open             float64\n",
            "Promo              int64\n",
            "StateHoliday      object\n",
            "SchoolHoliday      int64\n",
            "dtype: object\n",
            "2025-01-05 16:36:36,948 - INFO - Data types in store dataset:\n",
            "Store                          int64\n",
            "StoreType                     object\n",
            "Assortment                    object\n",
            "CompetitionDistance          float64\n",
            "CompetitionOpenSinceMonth    float64\n",
            "CompetitionOpenSinceYear     float64\n",
            "Promo2                         int64\n",
            "Promo2SinceWeek              float64\n",
            "Promo2SinceYear              float64\n",
            "PromoInterval                 object\n",
            "dtype: object\n"
          ]
        }
      ],
      "source": [
        "# Check data types\n",
        "logger.info(f\"Data types in train dataset:\\n{train.dtypes}\")\n",
        "logger.info(f\"Data types in test dataset:\\n{test.dtypes}\")\n",
        "logger.info(f\"Data types in store dataset:\\n{store.dtypes}\")"
      ]
    },
    {
      "cell_type": "code",
      "execution_count": null,
      "metadata": {},
      "outputs": [],
      "source": []
    },
    {
      "cell_type": "code",
      "execution_count": 14,
      "metadata": {},
      "outputs": [
        {
          "name": "stderr",
          "output_type": "stream",
          "text": [
            "/tmp/ipykernel_34104/708664855.py:2: FutureWarning: A value is trying to be set on a copy of a DataFrame or Series through chained assignment using an inplace method.\n",
            "The behavior will change in pandas 3.0. This inplace method will never work because the intermediate object on which we are setting values always behaves as a copy.\n",
            "\n",
            "For example, when doing 'df[col].method(value, inplace=True)', try using 'df.method({col: value}, inplace=True)' or df[col] = df[col].method(value) instead, to perform the operation inplace on the original object.\n",
            "\n",
            "\n",
            "  test['Open'].fillna(test['Open'].mode(), inplace=True)\n",
            "/tmp/ipykernel_34104/708664855.py:3: FutureWarning: A value is trying to be set on a copy of a DataFrame or Series through chained assignment using an inplace method.\n",
            "The behavior will change in pandas 3.0. This inplace method will never work because the intermediate object on which we are setting values always behaves as a copy.\n",
            "\n",
            "For example, when doing 'df[col].method(value, inplace=True)', try using 'df.method({col: value}, inplace=True)' or df[col] = df[col].method(value) instead, to perform the operation inplace on the original object.\n",
            "\n",
            "\n",
            "  store['CompetitionDistance'].fillna(store['CompetitionDistance'].median(), inplace=True)\n",
            "/tmp/ipykernel_34104/708664855.py:4: FutureWarning: A value is trying to be set on a copy of a DataFrame or Series through chained assignment using an inplace method.\n",
            "The behavior will change in pandas 3.0. This inplace method will never work because the intermediate object on which we are setting values always behaves as a copy.\n",
            "\n",
            "For example, when doing 'df[col].method(value, inplace=True)', try using 'df.method({col: value}, inplace=True)' or df[col] = df[col].method(value) instead, to perform the operation inplace on the original object.\n",
            "\n",
            "\n",
            "  store['CompetitionOpenSinceMonth'].fillna(0, inplace=True)\n",
            "/tmp/ipykernel_34104/708664855.py:5: FutureWarning: A value is trying to be set on a copy of a DataFrame or Series through chained assignment using an inplace method.\n",
            "The behavior will change in pandas 3.0. This inplace method will never work because the intermediate object on which we are setting values always behaves as a copy.\n",
            "\n",
            "For example, when doing 'df[col].method(value, inplace=True)', try using 'df.method({col: value}, inplace=True)' or df[col] = df[col].method(value) instead, to perform the operation inplace on the original object.\n",
            "\n",
            "\n",
            "  store['CompetitionOpenSinceYear'].fillna(0, inplace=True)\n",
            "/tmp/ipykernel_34104/708664855.py:6: FutureWarning: A value is trying to be set on a copy of a DataFrame or Series through chained assignment using an inplace method.\n",
            "The behavior will change in pandas 3.0. This inplace method will never work because the intermediate object on which we are setting values always behaves as a copy.\n",
            "\n",
            "For example, when doing 'df[col].method(value, inplace=True)', try using 'df.method({col: value}, inplace=True)' or df[col] = df[col].method(value) instead, to perform the operation inplace on the original object.\n",
            "\n",
            "\n",
            "  store['Promo2SinceWeek'].fillna(0, inplace=True)\n",
            "/tmp/ipykernel_34104/708664855.py:7: FutureWarning: A value is trying to be set on a copy of a DataFrame or Series through chained assignment using an inplace method.\n",
            "The behavior will change in pandas 3.0. This inplace method will never work because the intermediate object on which we are setting values always behaves as a copy.\n",
            "\n",
            "For example, when doing 'df[col].method(value, inplace=True)', try using 'df.method({col: value}, inplace=True)' or df[col] = df[col].method(value) instead, to perform the operation inplace on the original object.\n",
            "\n",
            "\n",
            "  store['Promo2SinceYear'].fillna(0, inplace=True)\n",
            "/tmp/ipykernel_34104/708664855.py:8: FutureWarning: A value is trying to be set on a copy of a DataFrame or Series through chained assignment using an inplace method.\n",
            "The behavior will change in pandas 3.0. This inplace method will never work because the intermediate object on which we are setting values always behaves as a copy.\n",
            "\n",
            "For example, when doing 'df[col].method(value, inplace=True)', try using 'df.method({col: value}, inplace=True)' or df[col] = df[col].method(value) instead, to perform the operation inplace on the original object.\n",
            "\n",
            "\n",
            "  store['PromoInterval'].fillna(\"None\", inplace=True)\n",
            "2025-01-05 16:44:44,087 - INFO - Missing values in store dataset handled.\n"
          ]
        }
      ],
      "source": [
        "# Handle missing values\n",
        "test['Open'].fillna(test['Open'].mode()[0], inplace=True)\n",
        "store['CompetitionDistance'].fillna(store['CompetitionDistance'].median(), inplace=True)\n",
        "store['CompetitionOpenSinceMonth'].fillna(0, inplace=True)\n",
        "store['CompetitionOpenSinceYear'].fillna(0, inplace=True)\n",
        "store['Promo2SinceWeek'].fillna(0, inplace=True)\n",
        "store['Promo2SinceYear'].fillna(0, inplace=True)\n",
        "store['PromoInterval'].fillna(\"None\", inplace=True)\n",
        "logger.info(\"Missing values in store dataset handled.\")"
      ]
    },
    {
      "cell_type": "code",
      "execution_count": 30,
      "metadata": {},
      "outputs": [
        {
          "name": "stderr",
          "output_type": "stream",
          "text": [
            "2025-01-05 17:23:26,040 - INFO - Datasets merged successfully.\n"
          ]
        }
      ],
      "source": [
        "# Merge datasets\n",
        "train = train.merge(store, on='Store', how='left')\n",
        "test = test.merge(store, on='Store', how='left')\n",
        "logger.info(\"Datasets merged successfully.\")"
      ]
    },
    {
      "cell_type": "code",
      "execution_count": 31,
      "metadata": {},
      "outputs": [
        {
          "name": "stderr",
          "output_type": "stream",
          "text": [
            "2025-01-05 17:24:54,132 - INFO - Feature engineering completed.\n"
          ]
        }
      ],
      "source": [
        "# Feature engineering\n",
        "train['Year'] = pd.to_datetime(train['Date']).dt.year\n",
        "train['Month'] = pd.to_datetime(train['Date']).dt.month\n",
        "train['WeekOfYear'] = pd.to_datetime(train['Date']).dt.isocalendar().week\n",
        "train['DayOfMonth'] = pd.to_datetime(train['Date']).dt.day\n",
        "\n",
        "test['Year'] = pd.to_datetime(test['Date']).dt.year\n",
        "test['Month'] = pd.to_datetime(test['Date']).dt.month\n",
        "test['WeekOfYear'] = pd.to_datetime(test['Date']).dt.isocalendar().week\n",
        "test['DayOfMonth'] = pd.to_datetime(test['Date']).dt.day\n",
        "logger.info(\"Feature engineering completed.\")"
      ]
    },
    {
      "cell_type": "code",
      "execution_count": 38,
      "metadata": {},
      "outputs": [
        {
          "name": "stderr",
          "output_type": "stream",
          "text": [
            "2025-01-05 18:00:33,532 - INFO - Using categorical units to plot a list of strings that are all parsable as floats or dates. If these strings should be plotted as numbers, cast to the appropriate data type before plotting.\n",
            "2025-01-05 18:00:34,007 - INFO - Using categorical units to plot a list of strings that are all parsable as floats or dates. If these strings should be plotted as numbers, cast to the appropriate data type before plotting.\n"
          ]
        },
        {
          "data": {
            "image/png": "[encoded data removed]",
            "text/plain": [
              "<Figure size 1000x600 with 1 Axes>"
            ]
          },
          "metadata": {},
          "output_type": "display_data"
        },
        {
          "name": "stderr",
          "output_type": "stream",
          "text": [
            "2025-01-05 18:00:34,274 - INFO - Total count of Promo=1: 388080.00\n",
            "2025-01-05 18:00:34,275 - INFO - Total count of Promo=0: 629129.00\n"
          ]
        }
      ],
      "source": [
        "# Check Promo distribution\n",
        "plt.figure(figsize=(10, 6))\n",
        "sns.countplot(data=train, x='Promo')\n",
        "plt.title('Distribution of Promotions in Train Dataset')\n",
        "plt.xlabel('Promo')\n",
        "plt.ylabel('Count')\n",
        "plt.show()\n",
        "\n",
        "promo = train.groupby('Promo')['Promo'].count()\n",
        "logger.info(f\"Total count of Promo=1: {promo[1]:.2f}\")\n",
        "logger.info(f\"Total count of Promo=0: {promo[0]:.2f}\")"
      ]
    }
  ],
  "metadata": {
    "colab": {
      "provenance": []
    },
    "kernelspec": {
      "display_name": ".venv",
      "language": "python",
      "name": "python3"
    },
    "language_info": {
      "codemirror_mode": {
        "name": "ipython",
        "version": 3
      },
      "file_extension": ".py",
      "mimetype": "text/x-python",
      "name": "python",
      "nbconvert_exporter": "python",
      "pygments_lexer": "ipython3",
      "version": "3.12.3"
    }
  },
  "nbformat": 4,
  "nbformat_minor": 0
}

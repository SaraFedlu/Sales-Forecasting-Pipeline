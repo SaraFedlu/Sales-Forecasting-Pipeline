{
  "cells": [
    {
      "cell_type": "code",
      "execution_count": 1,
      "metadata": {
        "id": "pRIWNNI5S5U6"
      },
      "outputs": [],
      "source": [
        "import pandas as pd\n",
        "import numpy as np\n",
        "import matplotlib.pyplot as plt\n",
        "import seaborn as sns\n",
        "import logging"
      ]
    },
    {
      "cell_type": "code",
      "source": [
        "# Configure logging\n",
        "logging.basicConfig(\n",
        "    level=logging.INFO,\n",
        "    format='%(asctime)s - %(levelname)s - %(message)s',\n",
        "    handlers=[\n",
        "        logging.FileHandler(\"rossmann_sales_forecasting.log\"),\n",
        "        logging.StreamHandler()\n",
        "    ]\n",
        ")\n",
        "logger = logging.getLogger()"
      ],
      "metadata": {
        "id": "PDSis1q7apyJ"
      },
      "execution_count": 6,
      "outputs": []
    },
    {
      "cell_type": "code",
      "source": [
        "# Set global visualization style\n",
        "sns.set(style=\"whitegrid\", palette=\"muted\")"
      ],
      "metadata": {
        "id": "V27mKWK6aw89"
      },
      "execution_count": 7,
      "outputs": []
    },
    {
      "cell_type": "code",
      "source": [
        "# Load datasets\n",
        "try:\n",
        "    train = pd.read_csv(\"/content/train.csv\")\n",
        "    test = pd.read_csv(\"/content/test.csv\")\n",
        "    store = pd.read_csv(\"/content/store.csv\")\n",
        "    logger.info(\"Datasets successfully loaded.\")\n",
        "except Exception as e:\n",
        "    logger.error(f\"Error loading datasets: {e}\")\n",
        "    raise"
      ],
      "metadata": {
        "id": "m574VSUIa3mO",
        "outputId": "bbbec508-7ef1-41d6-ac0b-8f7315b6aa63",
        "colab": {
          "base_uri": "https://localhost:8080/"
        }
      },
      "execution_count": 8,
      "outputs": [
        {
          "output_type": "stream",
          "name": "stderr",
          "text": [
            "<ipython-input-8-eaf1cb652577>:3: DtypeWarning: Columns (7) have mixed types. Specify dtype option on import or set low_memory=False.\n",
            "  train = pd.read_csv(\"/content/train.csv\")\n"
          ]
        }
      ]
    },
    {
      "cell_type": "code",
      "source": [
        "# Initial inspection\n",
        "logger.info(f\"Train data preview:\\n{train.head()}\")\n",
        "logger.info(f\"Test data preview:\\n{test.head()}\")\n",
        "logger.info(f\"Store data preview:\\n{store.head()}\")"
      ],
      "metadata": {
        "id": "9K0-xUpvbuUf"
      },
      "execution_count": 10,
      "outputs": []
    }
  ],
  "metadata": {
    "kernelspec": {
      "display_name": "base",
      "language": "python",
      "name": "python3"
    },
    "language_info": {
      "name": "python",
      "version": "3.9.13"
    },
    "colab": {
      "provenance": []
    }
  },
  "nbformat": 4,
  "nbformat_minor": 0
}
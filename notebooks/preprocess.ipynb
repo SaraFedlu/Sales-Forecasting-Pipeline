{
 "cells": [
  {
   "cell_type": "code",
   "execution_count": 1,
   "id": "9329e735-71ca-4b44-a7c4-a6e07b4066c6",
   "metadata": {
    "execution": {
     "iopub.execute_input": "2025-01-14T19:02:21.660525Z",
     "iopub.status.busy": "2025-01-14T19:02:21.660213Z",
     "iopub.status.idle": "2025-01-14T19:02:24.904604Z",
     "shell.execute_reply": "2025-01-14T19:02:24.904058Z",
     "shell.execute_reply.started": "2025-01-14T19:02:21.660501Z"
    }
   },
   "outputs": [],
   "source": [
    "import pandas as pd\n",
    "import numpy as np\n",
    "from sklearn.preprocessing import StandardScaler\n",
    "from sklearn.model_selection import train_test_split, cross_val_score\n",
    "from sklearn.preprocessing import StandardScaler, OneHotEncoder\n",
    "from sklearn.compose import ColumnTransformer\n",
    "from sklearn.pipeline import Pipeline\n",
    "from sklearn.ensemble import RandomForestRegressor\n",
    "from sklearn.metrics import mean_squared_error\n",
    "import joblib\n",
    "import datetime"
   ]
  },
  {
   "cell_type": "code",
   "execution_count": 2,
   "id": "d105b7e5-68c9-44f2-b4f4-e325fcb2ab1c",
   "metadata": {
    "execution": {
     "iopub.execute_input": "2025-01-14T19:05:24.691729Z",
     "iopub.status.busy": "2025-01-14T19:05:24.691034Z",
     "iopub.status.idle": "2025-01-14T19:05:26.514914Z",
     "shell.execute_reply": "2025-01-14T19:05:26.514279Z",
     "shell.execute_reply.started": "2025-01-14T19:05:24.691701Z"
    }
   },
   "outputs": [
    {
     "name": "stderr",
     "output_type": "stream",
     "text": [
      "/tmp/ipykernel_387/1718243997.py:1: DtypeWarning: Columns (7) have mixed types. Specify dtype option on import or set low_memory=False.\n",
      "  train = pd.read_csv(\"cleaned_train.csv\")\n",
      "/tmp/ipykernel_387/1718243997.py:2: DtypeWarning: Columns (6) have mixed types. Specify dtype option on import or set low_memory=False.\n",
      "  test = pd.read_csv(\"cleaned_test.csv\")\n"
     ]
    }
   ],
   "source": [
    "train = pd.read_csv(\"cleaned_train.csv\")\n",
    "test = pd.read_csv(\"cleaned_test.csv\")"
   ]
  },
  {
   "cell_type": "code",
   "execution_count": 3,
   "id": "0ecddee9-4129-498c-bfa6-030d8f8362d0",
   "metadata": {
    "execution": {
     "iopub.execute_input": "2025-01-14T19:05:47.624954Z",
     "iopub.status.busy": "2025-01-14T19:05:47.624596Z",
     "iopub.status.idle": "2025-01-14T19:05:47.648212Z",
     "shell.execute_reply": "2025-01-14T19:05:47.647686Z",
     "shell.execute_reply.started": "2025-01-14T19:05:47.624933Z"
    }
   },
   "outputs": [
    {
     "data": {
      "text/html": [
       "<div>\n",
       "<style scoped>\n",
       "    .dataframe tbody tr th:only-of-type {\n",
       "        vertical-align: middle;\n",
       "    }\n",
       "\n",
       "    .dataframe tbody tr th {\n",
       "        vertical-align: top;\n",
       "    }\n",
       "\n",
       "    .dataframe thead th {\n",
       "        text-align: right;\n",
       "    }\n",
       "</style>\n",
       "<table border=\"1\" class=\"dataframe\">\n",
       "  <thead>\n",
       "    <tr style=\"text-align: right;\">\n",
       "      <th></th>\n",
       "      <th>Store</th>\n",
       "      <th>DayOfWeek</th>\n",
       "      <th>Date</th>\n",
       "      <th>Sales</th>\n",
       "      <th>Customers</th>\n",
       "      <th>Open</th>\n",
       "      <th>Promo</th>\n",
       "      <th>StateHoliday</th>\n",
       "      <th>SchoolHoliday</th>\n",
       "      <th>StoreType</th>\n",
       "      <th>...</th>\n",
       "      <th>CompetitionOpenSinceYear</th>\n",
       "      <th>Promo2</th>\n",
       "      <th>Promo2SinceWeek</th>\n",
       "      <th>Promo2SinceYear</th>\n",
       "      <th>PromoInterval</th>\n",
       "      <th>Year</th>\n",
       "      <th>Month</th>\n",
       "      <th>WeekOfYear</th>\n",
       "      <th>DayOfMonth</th>\n",
       "      <th>DistanceBucket</th>\n",
       "    </tr>\n",
       "  </thead>\n",
       "  <tbody>\n",
       "    <tr>\n",
       "      <th>0</th>\n",
       "      <td>1</td>\n",
       "      <td>5</td>\n",
       "      <td>2015-07-31</td>\n",
       "      <td>5263</td>\n",
       "      <td>555</td>\n",
       "      <td>1</td>\n",
       "      <td>1</td>\n",
       "      <td>0</td>\n",
       "      <td>1</td>\n",
       "      <td>c</td>\n",
       "      <td>...</td>\n",
       "      <td>2008.0</td>\n",
       "      <td>0</td>\n",
       "      <td>0.0</td>\n",
       "      <td>0.0</td>\n",
       "      <td>NaN</td>\n",
       "      <td>2015</td>\n",
       "      <td>7</td>\n",
       "      <td>31</td>\n",
       "      <td>31</td>\n",
       "      <td>500-1500</td>\n",
       "    </tr>\n",
       "    <tr>\n",
       "      <th>1</th>\n",
       "      <td>2</td>\n",
       "      <td>5</td>\n",
       "      <td>2015-07-31</td>\n",
       "      <td>6064</td>\n",
       "      <td>625</td>\n",
       "      <td>1</td>\n",
       "      <td>1</td>\n",
       "      <td>0</td>\n",
       "      <td>1</td>\n",
       "      <td>a</td>\n",
       "      <td>...</td>\n",
       "      <td>2007.0</td>\n",
       "      <td>1</td>\n",
       "      <td>13.0</td>\n",
       "      <td>2010.0</td>\n",
       "      <td>Jan,Apr,Jul,Oct</td>\n",
       "      <td>2015</td>\n",
       "      <td>7</td>\n",
       "      <td>31</td>\n",
       "      <td>31</td>\n",
       "      <td>500-1500</td>\n",
       "    </tr>\n",
       "    <tr>\n",
       "      <th>2</th>\n",
       "      <td>3</td>\n",
       "      <td>5</td>\n",
       "      <td>2015-07-31</td>\n",
       "      <td>8314</td>\n",
       "      <td>821</td>\n",
       "      <td>1</td>\n",
       "      <td>1</td>\n",
       "      <td>0</td>\n",
       "      <td>1</td>\n",
       "      <td>a</td>\n",
       "      <td>...</td>\n",
       "      <td>2006.0</td>\n",
       "      <td>1</td>\n",
       "      <td>14.0</td>\n",
       "      <td>2011.0</td>\n",
       "      <td>Jan,Apr,Jul,Oct</td>\n",
       "      <td>2015</td>\n",
       "      <td>7</td>\n",
       "      <td>31</td>\n",
       "      <td>31</td>\n",
       "      <td>10000+</td>\n",
       "    </tr>\n",
       "    <tr>\n",
       "      <th>3</th>\n",
       "      <td>4</td>\n",
       "      <td>5</td>\n",
       "      <td>2015-07-31</td>\n",
       "      <td>13995</td>\n",
       "      <td>1498</td>\n",
       "      <td>1</td>\n",
       "      <td>1</td>\n",
       "      <td>0</td>\n",
       "      <td>1</td>\n",
       "      <td>c</td>\n",
       "      <td>...</td>\n",
       "      <td>2009.0</td>\n",
       "      <td>0</td>\n",
       "      <td>0.0</td>\n",
       "      <td>0.0</td>\n",
       "      <td>NaN</td>\n",
       "      <td>2015</td>\n",
       "      <td>7</td>\n",
       "      <td>31</td>\n",
       "      <td>31</td>\n",
       "      <td>500-1500</td>\n",
       "    </tr>\n",
       "    <tr>\n",
       "      <th>4</th>\n",
       "      <td>5</td>\n",
       "      <td>5</td>\n",
       "      <td>2015-07-31</td>\n",
       "      <td>4822</td>\n",
       "      <td>559</td>\n",
       "      <td>1</td>\n",
       "      <td>1</td>\n",
       "      <td>0</td>\n",
       "      <td>1</td>\n",
       "      <td>a</td>\n",
       "      <td>...</td>\n",
       "      <td>2015.0</td>\n",
       "      <td>0</td>\n",
       "      <td>0.0</td>\n",
       "      <td>0.0</td>\n",
       "      <td>NaN</td>\n",
       "      <td>2015</td>\n",
       "      <td>7</td>\n",
       "      <td>31</td>\n",
       "      <td>31</td>\n",
       "      <td>10000+</td>\n",
       "    </tr>\n",
       "  </tbody>\n",
       "</table>\n",
       "<p>5 rows × 23 columns</p>\n",
       "</div>"
      ],
      "text/plain": [
       "   Store  DayOfWeek        Date  Sales  Customers  Open  Promo StateHoliday  \\\n",
       "0      1          5  2015-07-31   5263        555     1      1            0   \n",
       "1      2          5  2015-07-31   6064        625     1      1            0   \n",
       "2      3          5  2015-07-31   8314        821     1      1            0   \n",
       "3      4          5  2015-07-31  13995       1498     1      1            0   \n",
       "4      5          5  2015-07-31   4822        559     1      1            0   \n",
       "\n",
       "   SchoolHoliday StoreType  ... CompetitionOpenSinceYear  Promo2  \\\n",
       "0              1         c  ...                   2008.0       0   \n",
       "1              1         a  ...                   2007.0       1   \n",
       "2              1         a  ...                   2006.0       1   \n",
       "3              1         c  ...                   2009.0       0   \n",
       "4              1         a  ...                   2015.0       0   \n",
       "\n",
       "   Promo2SinceWeek  Promo2SinceYear    PromoInterval  Year  Month WeekOfYear  \\\n",
       "0              0.0              0.0              NaN  2015      7         31   \n",
       "1             13.0           2010.0  Jan,Apr,Jul,Oct  2015      7         31   \n",
       "2             14.0           2011.0  Jan,Apr,Jul,Oct  2015      7         31   \n",
       "3              0.0              0.0              NaN  2015      7         31   \n",
       "4              0.0              0.0              NaN  2015      7         31   \n",
       "\n",
       "   DayOfMonth  DistanceBucket  \n",
       "0          31        500-1500  \n",
       "1          31        500-1500  \n",
       "2          31          10000+  \n",
       "3          31        500-1500  \n",
       "4          31          10000+  \n",
       "\n",
       "[5 rows x 23 columns]"
      ]
     },
     "execution_count": 3,
     "metadata": {},
     "output_type": "execute_result"
    }
   ],
   "source": [
    "train.head()"
   ]
  },
  {
   "cell_type": "code",
   "execution_count": 4,
   "id": "92204d11-afd7-4d39-acdd-db46cd374700",
   "metadata": {
    "execution": {
     "iopub.execute_input": "2025-01-14T19:06:31.305681Z",
     "iopub.status.busy": "2025-01-14T19:06:31.305348Z",
     "iopub.status.idle": "2025-01-14T19:06:31.319758Z",
     "shell.execute_reply": "2025-01-14T19:06:31.319192Z",
     "shell.execute_reply.started": "2025-01-14T19:06:31.305659Z"
    }
   },
   "outputs": [
    {
     "data": {
      "text/html": [
       "<div>\n",
       "<style scoped>\n",
       "    .dataframe tbody tr th:only-of-type {\n",
       "        vertical-align: middle;\n",
       "    }\n",
       "\n",
       "    .dataframe tbody tr th {\n",
       "        vertical-align: top;\n",
       "    }\n",
       "\n",
       "    .dataframe thead th {\n",
       "        text-align: right;\n",
       "    }\n",
       "</style>\n",
       "<table border=\"1\" class=\"dataframe\">\n",
       "  <thead>\n",
       "    <tr style=\"text-align: right;\">\n",
       "      <th></th>\n",
       "      <th>Id</th>\n",
       "      <th>Store</th>\n",
       "      <th>DayOfWeek</th>\n",
       "      <th>Date</th>\n",
       "      <th>Open</th>\n",
       "      <th>Promo</th>\n",
       "      <th>StateHoliday</th>\n",
       "      <th>SchoolHoliday</th>\n",
       "      <th>StoreType</th>\n",
       "      <th>Assortment</th>\n",
       "      <th>...</th>\n",
       "      <th>CompetitionOpenSinceMonth</th>\n",
       "      <th>CompetitionOpenSinceYear</th>\n",
       "      <th>Promo2</th>\n",
       "      <th>Promo2SinceWeek</th>\n",
       "      <th>Promo2SinceYear</th>\n",
       "      <th>PromoInterval</th>\n",
       "      <th>Year</th>\n",
       "      <th>Month</th>\n",
       "      <th>WeekOfYear</th>\n",
       "      <th>DayOfMonth</th>\n",
       "    </tr>\n",
       "  </thead>\n",
       "  <tbody>\n",
       "    <tr>\n",
       "      <th>0</th>\n",
       "      <td>1</td>\n",
       "      <td>1</td>\n",
       "      <td>4</td>\n",
       "      <td>2015-09-17</td>\n",
       "      <td>1.0</td>\n",
       "      <td>1</td>\n",
       "      <td>0</td>\n",
       "      <td>0</td>\n",
       "      <td>c</td>\n",
       "      <td>a</td>\n",
       "      <td>...</td>\n",
       "      <td>9.0</td>\n",
       "      <td>2008.0</td>\n",
       "      <td>0</td>\n",
       "      <td>0.0</td>\n",
       "      <td>0.0</td>\n",
       "      <td>NaN</td>\n",
       "      <td>2015</td>\n",
       "      <td>9</td>\n",
       "      <td>38</td>\n",
       "      <td>17</td>\n",
       "    </tr>\n",
       "    <tr>\n",
       "      <th>1</th>\n",
       "      <td>2</td>\n",
       "      <td>3</td>\n",
       "      <td>4</td>\n",
       "      <td>2015-09-17</td>\n",
       "      <td>1.0</td>\n",
       "      <td>1</td>\n",
       "      <td>0</td>\n",
       "      <td>0</td>\n",
       "      <td>a</td>\n",
       "      <td>a</td>\n",
       "      <td>...</td>\n",
       "      <td>12.0</td>\n",
       "      <td>2006.0</td>\n",
       "      <td>1</td>\n",
       "      <td>14.0</td>\n",
       "      <td>2011.0</td>\n",
       "      <td>Jan,Apr,Jul,Oct</td>\n",
       "      <td>2015</td>\n",
       "      <td>9</td>\n",
       "      <td>38</td>\n",
       "      <td>17</td>\n",
       "    </tr>\n",
       "    <tr>\n",
       "      <th>2</th>\n",
       "      <td>3</td>\n",
       "      <td>7</td>\n",
       "      <td>4</td>\n",
       "      <td>2015-09-17</td>\n",
       "      <td>1.0</td>\n",
       "      <td>1</td>\n",
       "      <td>0</td>\n",
       "      <td>0</td>\n",
       "      <td>a</td>\n",
       "      <td>c</td>\n",
       "      <td>...</td>\n",
       "      <td>4.0</td>\n",
       "      <td>2013.0</td>\n",
       "      <td>0</td>\n",
       "      <td>0.0</td>\n",
       "      <td>0.0</td>\n",
       "      <td>NaN</td>\n",
       "      <td>2015</td>\n",
       "      <td>9</td>\n",
       "      <td>38</td>\n",
       "      <td>17</td>\n",
       "    </tr>\n",
       "    <tr>\n",
       "      <th>3</th>\n",
       "      <td>4</td>\n",
       "      <td>8</td>\n",
       "      <td>4</td>\n",
       "      <td>2015-09-17</td>\n",
       "      <td>1.0</td>\n",
       "      <td>1</td>\n",
       "      <td>0</td>\n",
       "      <td>0</td>\n",
       "      <td>a</td>\n",
       "      <td>a</td>\n",
       "      <td>...</td>\n",
       "      <td>10.0</td>\n",
       "      <td>2014.0</td>\n",
       "      <td>0</td>\n",
       "      <td>0.0</td>\n",
       "      <td>0.0</td>\n",
       "      <td>NaN</td>\n",
       "      <td>2015</td>\n",
       "      <td>9</td>\n",
       "      <td>38</td>\n",
       "      <td>17</td>\n",
       "    </tr>\n",
       "    <tr>\n",
       "      <th>4</th>\n",
       "      <td>5</td>\n",
       "      <td>9</td>\n",
       "      <td>4</td>\n",
       "      <td>2015-09-17</td>\n",
       "      <td>1.0</td>\n",
       "      <td>1</td>\n",
       "      <td>0</td>\n",
       "      <td>0</td>\n",
       "      <td>a</td>\n",
       "      <td>c</td>\n",
       "      <td>...</td>\n",
       "      <td>8.0</td>\n",
       "      <td>2000.0</td>\n",
       "      <td>0</td>\n",
       "      <td>0.0</td>\n",
       "      <td>0.0</td>\n",
       "      <td>NaN</td>\n",
       "      <td>2015</td>\n",
       "      <td>9</td>\n",
       "      <td>38</td>\n",
       "      <td>17</td>\n",
       "    </tr>\n",
       "  </tbody>\n",
       "</table>\n",
       "<p>5 rows × 21 columns</p>\n",
       "</div>"
      ],
      "text/plain": [
       "   Id  Store  DayOfWeek        Date  Open  Promo StateHoliday  SchoolHoliday  \\\n",
       "0   1      1          4  2015-09-17   1.0      1            0              0   \n",
       "1   2      3          4  2015-09-17   1.0      1            0              0   \n",
       "2   3      7          4  2015-09-17   1.0      1            0              0   \n",
       "3   4      8          4  2015-09-17   1.0      1            0              0   \n",
       "4   5      9          4  2015-09-17   1.0      1            0              0   \n",
       "\n",
       "  StoreType Assortment  ...  CompetitionOpenSinceMonth  \\\n",
       "0         c          a  ...                        9.0   \n",
       "1         a          a  ...                       12.0   \n",
       "2         a          c  ...                        4.0   \n",
       "3         a          a  ...                       10.0   \n",
       "4         a          c  ...                        8.0   \n",
       "\n",
       "   CompetitionOpenSinceYear  Promo2  Promo2SinceWeek  Promo2SinceYear  \\\n",
       "0                    2008.0       0              0.0              0.0   \n",
       "1                    2006.0       1             14.0           2011.0   \n",
       "2                    2013.0       0              0.0              0.0   \n",
       "3                    2014.0       0              0.0              0.0   \n",
       "4                    2000.0       0              0.0              0.0   \n",
       "\n",
       "     PromoInterval  Year  Month  WeekOfYear  DayOfMonth  \n",
       "0              NaN  2015      9          38          17  \n",
       "1  Jan,Apr,Jul,Oct  2015      9          38          17  \n",
       "2              NaN  2015      9          38          17  \n",
       "3              NaN  2015      9          38          17  \n",
       "4              NaN  2015      9          38          17  \n",
       "\n",
       "[5 rows x 21 columns]"
      ]
     },
     "execution_count": 4,
     "metadata": {},
     "output_type": "execute_result"
    }
   ],
   "source": [
    "test.head()"
   ]
  },
  {
   "cell_type": "code",
   "execution_count": 5,
   "id": "f1eca38a-949b-4c32-bf5a-59b01b7a2dde",
   "metadata": {
    "execution": {
     "iopub.execute_input": "2025-01-14T19:08:46.401572Z",
     "iopub.status.busy": "2025-01-14T19:08:46.401223Z",
     "iopub.status.idle": "2025-01-14T19:08:46.650261Z",
     "shell.execute_reply": "2025-01-14T19:08:46.649679Z",
     "shell.execute_reply.started": "2025-01-14T19:08:46.401551Z"
    }
   },
   "outputs": [
    {
     "data": {
      "text/plain": [
       "Store                             0\n",
       "DayOfWeek                         0\n",
       "Date                              0\n",
       "Sales                             0\n",
       "Customers                         0\n",
       "Open                              0\n",
       "Promo                             0\n",
       "StateHoliday                      0\n",
       "SchoolHoliday                     0\n",
       "StoreType                         0\n",
       "Assortment                        0\n",
       "CompetitionDistance               0\n",
       "CompetitionOpenSinceMonth         0\n",
       "CompetitionOpenSinceYear          0\n",
       "Promo2                            0\n",
       "Promo2SinceWeek                   0\n",
       "Promo2SinceYear                   0\n",
       "PromoInterval                508031\n",
       "Year                              0\n",
       "Month                             0\n",
       "WeekOfYear                        0\n",
       "DayOfMonth                        0\n",
       "DistanceBucket                    0\n",
       "dtype: int64"
      ]
     },
     "execution_count": 5,
     "metadata": {},
     "output_type": "execute_result"
    }
   ],
   "source": [
    "train.isnull().sum()"
   ]
  },
  {
   "cell_type": "code",
   "execution_count": 6,
   "id": "41ab37b4-db43-4617-abdd-9517c5d822ae",
   "metadata": {
    "execution": {
     "iopub.execute_input": "2025-01-14T19:09:13.141532Z",
     "iopub.status.busy": "2025-01-14T19:09:13.141195Z",
     "iopub.status.idle": "2025-01-14T19:09:13.155431Z",
     "shell.execute_reply": "2025-01-14T19:09:13.154893Z",
     "shell.execute_reply.started": "2025-01-14T19:09:13.141512Z"
    }
   },
   "outputs": [
    {
     "data": {
      "text/plain": [
       "Id                               0\n",
       "Store                            0\n",
       "DayOfWeek                        0\n",
       "Date                             0\n",
       "Open                             0\n",
       "Promo                            0\n",
       "StateHoliday                     0\n",
       "SchoolHoliday                    0\n",
       "StoreType                        0\n",
       "Assortment                       0\n",
       "CompetitionDistance              0\n",
       "CompetitionOpenSinceMonth        0\n",
       "CompetitionOpenSinceYear         0\n",
       "Promo2                           0\n",
       "Promo2SinceWeek                  0\n",
       "Promo2SinceYear                  0\n",
       "PromoInterval                17232\n",
       "Year                             0\n",
       "Month                            0\n",
       "WeekOfYear                       0\n",
       "DayOfMonth                       0\n",
       "dtype: int64"
      ]
     },
     "execution_count": 6,
     "metadata": {},
     "output_type": "execute_result"
    }
   ],
   "source": [
    "test.isnull().sum()"
   ]
  },
  {
   "cell_type": "code",
   "execution_count": 7,
   "id": "f7c0e570-899e-470d-8764-43c5cd694dbb",
   "metadata": {
    "execution": {
     "iopub.execute_input": "2025-01-14T19:10:29.889571Z",
     "iopub.status.busy": "2025-01-14T19:10:29.889235Z",
     "iopub.status.idle": "2025-01-14T19:10:29.943784Z",
     "shell.execute_reply": "2025-01-14T19:10:29.943198Z",
     "shell.execute_reply.started": "2025-01-14T19:10:29.889552Z"
    }
   },
   "outputs": [
    {
     "name": "stderr",
     "output_type": "stream",
     "text": [
      "/tmp/ipykernel_387/3783106480.py:1: FutureWarning: A value is trying to be set on a copy of a DataFrame or Series through chained assignment using an inplace method.\n",
      "The behavior will change in pandas 3.0. This inplace method will never work because the intermediate object on which we are setting values always behaves as a copy.\n",
      "\n",
      "For example, when doing 'df[col].method(value, inplace=True)', try using 'df.method({col: value}, inplace=True)' or df[col] = df[col].method(value) instead, to perform the operation inplace on the original object.\n",
      "\n",
      "\n",
      "  train['PromoInterval'].fillna(\"None\", inplace=True)\n",
      "/tmp/ipykernel_387/3783106480.py:2: FutureWarning: A value is trying to be set on a copy of a DataFrame or Series through chained assignment using an inplace method.\n",
      "The behavior will change in pandas 3.0. This inplace method will never work because the intermediate object on which we are setting values always behaves as a copy.\n",
      "\n",
      "For example, when doing 'df[col].method(value, inplace=True)', try using 'df.method({col: value}, inplace=True)' or df[col] = df[col].method(value) instead, to perform the operation inplace on the original object.\n",
      "\n",
      "\n",
      "  test['PromoInterval'].fillna(\"None\", inplace=True)\n"
     ]
    }
   ],
   "source": [
    "train['PromoInterval'].fillna(\"None\", inplace=True)\n",
    "test['PromoInterval'].fillna(\"None\", inplace=True)"
   ]
  },
  {
   "cell_type": "code",
   "execution_count": 9,
   "id": "19db9030-2de3-429c-9b53-42351eca870c",
   "metadata": {
    "execution": {
     "iopub.execute_input": "2025-01-14T19:11:00.218171Z",
     "iopub.status.busy": "2025-01-14T19:11:00.217842Z",
     "iopub.status.idle": "2025-01-14T19:11:00.475241Z",
     "shell.execute_reply": "2025-01-14T19:11:00.474449Z",
     "shell.execute_reply.started": "2025-01-14T19:11:00.218148Z"
    }
   },
   "outputs": [
    {
     "data": {
      "text/plain": [
       "Store                        0\n",
       "DayOfWeek                    0\n",
       "Date                         0\n",
       "Sales                        0\n",
       "Customers                    0\n",
       "Open                         0\n",
       "Promo                        0\n",
       "StateHoliday                 0\n",
       "SchoolHoliday                0\n",
       "StoreType                    0\n",
       "Assortment                   0\n",
       "CompetitionDistance          0\n",
       "CompetitionOpenSinceMonth    0\n",
       "CompetitionOpenSinceYear     0\n",
       "Promo2                       0\n",
       "Promo2SinceWeek              0\n",
       "Promo2SinceYear              0\n",
       "PromoInterval                0\n",
       "Year                         0\n",
       "Month                        0\n",
       "WeekOfYear                   0\n",
       "DayOfMonth                   0\n",
       "DistanceBucket               0\n",
       "dtype: int64"
      ]
     },
     "execution_count": 9,
     "metadata": {},
     "output_type": "execute_result"
    }
   ],
   "source": [
    "train.isnull().sum()"
   ]
  },
  {
   "cell_type": "code",
   "execution_count": 10,
   "id": "aa18438c-57aa-4a99-9874-85bf695a247b",
   "metadata": {
    "execution": {
     "iopub.execute_input": "2025-01-14T19:14:37.491068Z",
     "iopub.status.busy": "2025-01-14T19:14:37.490730Z",
     "iopub.status.idle": "2025-01-14T19:14:37.801247Z",
     "shell.execute_reply": "2025-01-14T19:14:37.800735Z",
     "shell.execute_reply.started": "2025-01-14T19:14:37.491047Z"
    }
   },
   "outputs": [],
   "source": [
    "# datetime features\n",
    "train['Date'] = pd.to_datetime(train['Date'])\n",
    "train['Weekday'] = train['Date'].dt.dayofweek  # 0=Monday, 6=Sunday\n",
    "train['IsWeekend'] = (train['Weekday'] >= 5).astype(int)\n",
    "train['Month'] = train['Date'].dt.month\n",
    "train['Quarter'] = train['Date'].dt.quarter\n",
    "train['Year'] = train['Date'].dt.year\n",
    "train['IsBeginningOfMonth'] = (train['Date'].dt.day <= 10).astype(int)\n",
    "train['IsMidMonth'] = ((train['Date'].dt.day > 10) & (train['Date'].dt.day <= 20)).astype(int)\n",
    "train['IsEndOfMonth'] = (train['Date'].dt.day > 20).astype(int)\n",
    "\n",
    "test['Date'] = pd.to_datetime(test['Date'])\n",
    "test['Weekday'] = test['Date'].dt.dayofweek  # 0=Monday, 6=Sunday\n",
    "test['IsWeekend'] = (test['Weekday'] >= 5).astype(int)\n",
    "test['Month'] = test['Date'].dt.month\n",
    "test['Quarter'] = test['Date'].dt.quarter\n",
    "test['Year'] = test['Date'].dt.year\n",
    "test['IsBeginningOfMonth'] = (test['Date'].dt.day <= 10).astype(int)\n",
    "test['IsMidMonth'] = ((test['Date'].dt.day > 10) & (test['Date'].dt.day <= 20)).astype(int)\n",
    "test['IsEndOfMonth'] = (test['Date'].dt.day > 20).astype(int)\n"
   ]
  },
  {
   "cell_type": "code",
   "execution_count": 11,
   "id": "8e9eb73d-8f43-4e3b-a612-a3f37fa36fa6",
   "metadata": {
    "execution": {
     "iopub.execute_input": "2025-01-14T19:15:56.842700Z",
     "iopub.status.busy": "2025-01-14T19:15:56.842367Z",
     "iopub.status.idle": "2025-01-14T19:15:57.783703Z",
     "shell.execute_reply": "2025-01-14T19:15:57.783100Z",
     "shell.execute_reply.started": "2025-01-14T19:15:56.842679Z"
    }
   },
   "outputs": [],
   "source": [
    "# holiday features\n",
    "train['DaysToHoliday'] = train.groupby('Store')['StateHoliday'].transform(lambda x: (x.shift(-1) != '0').cumsum())\n",
    "train['DaysAfterHoliday'] = train.groupby('Store')['StateHoliday'].transform(lambda x: (x != '0').cumsum())"
   ]
  },
  {
   "cell_type": "code",
   "execution_count": 12,
   "id": "88011997-fbdd-4d4c-b9fc-8ec2012d408c",
   "metadata": {
    "execution": {
     "iopub.execute_input": "2025-01-14T19:16:32.316067Z",
     "iopub.status.busy": "2025-01-14T19:16:32.315723Z",
     "iopub.status.idle": "2025-01-14T19:16:32.607749Z",
     "shell.execute_reply": "2025-01-14T19:16:32.607178Z",
     "shell.execute_reply.started": "2025-01-14T19:16:32.316043Z"
    }
   },
   "outputs": [],
   "source": [
    "test['DaysToHoliday'] = test.groupby('Store')['StateHoliday'].transform(lambda x: (x.shift(-1) != '0').cumsum())\n",
    "test['DaysAfterHoliday'] = test.groupby('Store')['StateHoliday'].transform(lambda x: (x != '0').cumsum())"
   ]
  },
  {
   "cell_type": "code",
   "execution_count": 13,
   "id": "17b94401-c219-4d90-b380-d7e795327392",
   "metadata": {
    "execution": {
     "iopub.execute_input": "2025-01-14T19:17:58.578315Z",
     "iopub.status.busy": "2025-01-14T19:17:58.577981Z",
     "iopub.status.idle": "2025-01-14T19:17:58.598106Z",
     "shell.execute_reply": "2025-01-14T19:17:58.597530Z",
     "shell.execute_reply.started": "2025-01-14T19:17:58.578294Z"
    }
   },
   "outputs": [],
   "source": [
    "# promo features\n",
    "train['Promo2Active'] = ((train['Promo2'] == 1) & (train['Month'].isin([2, 5, 8, 11]))).astype(int)\n",
    "test['Promo2Active'] = ((test['Promo2'] == 1) & (test['Month'].isin([2, 5, 8, 11]))).astype(int)"
   ]
  },
  {
   "cell_type": "code",
   "execution_count": 15,
   "id": "34d92f33-977e-4eb2-8d68-5dc45a4d6681",
   "metadata": {
    "execution": {
     "iopub.execute_input": "2025-01-14T19:20:47.983135Z",
     "iopub.status.busy": "2025-01-14T19:20:47.982798Z",
     "iopub.status.idle": "2025-01-14T19:20:48.063717Z",
     "shell.execute_reply": "2025-01-14T19:20:48.063135Z",
     "shell.execute_reply.started": "2025-01-14T19:20:47.983115Z"
    }
   },
   "outputs": [],
   "source": [
    "# lag features\n",
    "train['SalesLag7'] = train.groupby('Store')['Sales'].shift(7)\n",
    "train['SalesLag30'] = train.groupby('Store')['Sales'].shift(30)\n",
    "train['SalesChange'] = train['Sales'] - train['SalesLag7']"
   ]
  },
  {
   "cell_type": "code",
   "execution_count": 16,
   "id": "e3112231-54db-4538-a675-365b1e8a1738",
   "metadata": {
    "execution": {
     "iopub.execute_input": "2025-01-14T19:21:34.577988Z",
     "iopub.status.busy": "2025-01-14T19:21:34.577655Z",
     "iopub.status.idle": "2025-01-14T19:21:35.174326Z",
     "shell.execute_reply": "2025-01-14T19:21:35.173724Z",
     "shell.execute_reply.started": "2025-01-14T19:21:34.577966Z"
    }
   },
   "outputs": [],
   "source": [
    "# One-hot encode categorical variables\n",
    "categorical_features = ['StateHoliday', 'StoreType', 'Assortment']\n",
    "train = pd.get_dummies(train, columns=categorical_features, drop_first=True)"
   ]
  },
  {
   "cell_type": "code",
   "execution_count": 21,
   "id": "204d5c3f-f6ef-4660-a8aa-224efec4ef37",
   "metadata": {
    "execution": {
     "iopub.execute_input": "2025-01-14T19:24:32.501640Z",
     "iopub.status.busy": "2025-01-14T19:24:32.501322Z",
     "iopub.status.idle": "2025-01-14T19:24:32.627232Z",
     "shell.execute_reply": "2025-01-14T19:24:32.626646Z",
     "shell.execute_reply.started": "2025-01-14T19:24:32.501619Z"
    }
   },
   "outputs": [],
   "source": [
    "# Select numeric columns to scale\n",
    "numeric_features = ['CompetitionDistance', 'SalesLag7', 'SalesLag30', 'DaysToHoliday', 'DaysAfterHoliday']\n",
    "\n",
    "# Apply StandardScaler\n",
    "scaler = StandardScaler()\n",
    "train[numeric_features] = scaler.fit_transform(train[numeric_features])"
   ]
  },
  {
   "cell_type": "code",
   "execution_count": 26,
   "id": "3af3f4dc-fc96-46ac-b85b-4e1adb82eb34",
   "metadata": {
    "execution": {
     "iopub.execute_input": "2025-01-14T19:34:08.185184Z",
     "iopub.status.busy": "2025-01-14T19:34:08.184867Z",
     "iopub.status.idle": "2025-01-14T19:34:24.862063Z",
     "shell.execute_reply": "2025-01-14T19:34:24.861446Z",
     "shell.execute_reply.started": "2025-01-14T19:34:08.185163Z"
    }
   },
   "outputs": [],
   "source": [
    "train.to_csv(\"preprocessed_train.csv\", index=False)\n",
    "test.to_csv(\"preprocessed_test.csv\", index=False)"
   ]
  },
  {
   "cell_type": "code",
   "execution_count": null,
   "id": "e04871b6-dde4-4ac3-a22e-54301c414180",
   "metadata": {},
   "outputs": [],
   "source": []
  }
 ],
 "metadata": {
  "kernelspec": {
   "display_name": "saturn (Python 3)",
   "language": "python",
   "name": "python3"
  },
  "language_info": {
   "codemirror_mode": {
    "name": "ipython",
    "version": 3
   },
   "file_extension": ".py",
   "mimetype": "text/x-python",
   "name": "python",
   "nbconvert_exporter": "python",
   "pygments_lexer": "ipython3",
   "version": "3.12.7"
  }
 },
 "nbformat": 4,
 "nbformat_minor": 5
}
